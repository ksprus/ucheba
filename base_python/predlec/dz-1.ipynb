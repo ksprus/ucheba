{
 "cells": [
  {
   "cell_type": "markdown",
   "metadata": {},
   "source": [
    "# Задание 1"
   ]
  },
  {
   "cell_type": "code",
   "execution_count": null,
   "metadata": {},
   "outputs": [],
   "source": [
    "phrase_1 = \"родила царица в ночь\"\n",
    "phrase_2 = \"не то сына, не то дочь\"\n",
    "\n",
    "if len(phrase_1) > len(phrase_2):\n",
    "    print(\"Первая фраза длиннее\")\n",
    "if len(phrase_1) < len(phrase_2):\n",
    "    print(\"Вторая фраза длиннее\")\n",
    "else:\n",
    "    print(\"Фразы равны\")"
   ]
  },
  {
   "cell_type": "markdown",
   "metadata": {},
   "source": [
    "# Задание 2"
   ]
  },
  {
   "cell_type": "code",
   "execution_count": 8,
   "metadata": {},
   "outputs": [
    {
     "name": "stdout",
     "output_type": "stream",
     "text": [
      "Введите год 1990\n",
      "Год не високосный\n"
     ]
    }
   ],
   "source": [
    "year = int(input(\"Введите год \"))\n",
    "if (year % 4 == 0) and (year % 100 != 0) or (year % 400 == 0):\n",
    "    print(\"Год високосный\")\n",
    "else:\n",
    "    print('Год не високосный')"
   ]
  },
  {
   "cell_type": "markdown",
   "metadata": {},
   "source": [
    "# Задание 3"
   ]
  },
  {
   "cell_type": "code",
   "execution_count": 38,
   "metadata": {},
   "outputs": [
    {
     "name": "stdout",
     "output_type": "stream",
     "text": [
      "Введите месяц вашего рождения январь\n",
      "Введите день вашего рождения 7\n",
      "Ваш знак зодиака: Козерог\n"
     ]
    }
   ],
   "source": [
    "mounth = input(\"Введите месяц вашего рождения \")\n",
    "day = int(input(\"Введите день вашего рождения \"))\n",
    "znak = 'Ваш знак зодиака:'\n",
    "\n",
    "if (day >= 21 and mounth == \"март\") or (day <= 20 and mounth == \"апрель\"):\n",
    "    print(znak,'Овен')\n",
    "elif (day <= 20 and mounth == \"март\") or (day >= 20 and mounth == \"февраль\"):\n",
    "    print(znak,'Рыбы')\n",
    "elif (day <= 21 and mounth == \"май\") or (day >= 21 and mounth == \"апрель\"):\n",
    "    print(znak,'Телец')    \n",
    "elif (day <= 21 and mounth == \"июнь\") or (day >= 22 and mounth == \"май\"):\n",
    "    print(znak,'Близнецы')    \n",
    "elif (day <= 22 and mounth == \"июль\") or (day >= 22 and mounth == \"июнь\"):\n",
    "    print(znak,'Рак')        \n",
    "elif (day >= 23 and mounth == \"июль\") or (day <= 21 and mounth == \"август\"):\n",
    "    print(znak,'Лев')\n",
    "elif (day >= 22 and mounth == \"август\") or (day <= 23 and mounth == \"сентябрь\"):\n",
    "    print(znak,'Дева')        \n",
    "elif (day >= 24 and mounth == \"сентябрь\") or (day <= 23 and mounth == \"октябрь\"):\n",
    "    print(znak,'Весы')\n",
    "elif (day >= 24 and mounth == \"октябрь\") or (day <= 22 and mounth == \"ноябрь\") :\n",
    "    print(znak,'Скорпион')        \n",
    "elif (day >= 23 and mounth == \"ноябрь\") or (day <= 22 and mounth == \"декабрь\"):\n",
    "    print(znak,'Стрелец')\n",
    "elif (day >= 23 and mounth == \"декабрь\") or (day <= 20 and mounth == \"январь\"):\n",
    "    print(znak,'Козерог')        \n",
    "elif (day >= 21 and mounth == \"январь\") or (day <= 19 and mounth == \"февраль\"):\n",
    "    print(znak,'Водолей') \n",
    "\n",
    "\n",
    "    \n"
   ]
  },
  {
   "cell_type": "markdown",
   "metadata": {},
   "source": [
    "# Задание 4"
   ]
  },
  {
   "cell_type": "code",
   "execution_count": 22,
   "metadata": {},
   "outputs": [
    {
     "name": "stdout",
     "output_type": "stream",
     "text": [
      "Укажите ширину в см 12\n",
      "Укажите длину в см 18\n",
      "Укажите высоту в см 12\n",
      "Коробка №2\n"
     ]
    }
   ],
   "source": [
    "width = int(input(\"Укажите ширину в см \"))\n",
    "length =int(input(\"Укажите длину в см \"))\n",
    "height = int(input(\"Укажите высоту в см \"))\n",
    "\n",
    "\n",
    "    \n",
    "if width > 15 or height > 15 or length > 15 and width < 50 or length < 50 or height <50:\n",
    "    print(\"Коробка №2\")\n",
    "    \n",
    "elif width >= 50 or height >=50 or length > 50 and length <2000:\n",
    "    print(\"Стандартная коробка №3\")    \n",
    "    \n",
    "elif length >= 2000:\n",
    "    print(\"Упаковка для лыж\")\n",
    "\n",
    "elif (width and height and length) < 15:\n",
    "    print(\"Коробка №1\")\n",
    "    "
   ]
  },
  {
   "cell_type": "markdown",
   "metadata": {},
   "source": [
    "# Задание 5"
   ]
  },
  {
   "cell_type": "code",
   "execution_count": 23,
   "metadata": {},
   "outputs": [
    {
     "name": "stdout",
     "output_type": "stream",
     "text": [
      "Введите 6-значный номер билета 122356\n",
      "Билет обычный\n"
     ]
    }
   ],
   "source": [
    "ticket = (input(\"Введите 6-значный номер билета \"))\n",
    "one_part = int(ticket[0]) + int(ticket[1]) + int(ticket[2])\n",
    "two_part = int(ticket[3]) + int(ticket[4]) + int(ticket[5])\n",
    "\n",
    "if one_part == two_part:\n",
    "    print(\"Ваш билет счастливый\")\n",
    "else: \n",
    "    print(\"Билет обычный\")"
   ]
  },
  {
   "cell_type": "markdown",
   "metadata": {},
   "source": [
    "# Задание 6"
   ]
  },
  {
   "cell_type": "code",
   "execution_count": 54,
   "metadata": {
    "scrolled": true
   },
   "outputs": [
    {
     "name": "stdout",
     "output_type": "stream",
     "text": [
      "Введите тип фигуры для измерения площади: круг, треугольник, прямоугольник треугольник\n",
      "Введите длину первой стороны прямоугольника12\n",
      "Введите длину второй стороны прямоугольника14\n",
      "Введите длину третьей стороны прямоугольника15\n",
      "Площадь треугольника: 78\n"
     ]
    }
   ],
   "source": [
    "import math\n",
    "figure = (input(\"Введите тип фигуры для измерения площади: круг, треугольник, прямоугольник \"))\n",
    "if figure == 'круг':\n",
    "    circle = (input('Введите радиус круга'))\n",
    "    s_circle= 3.14 * int(int(circle)*int(circle))\n",
    "    print('Площадь круга:',s_circle)\n",
    "elif figure== 'прямоугольник':\n",
    "    one_side = (input('Введите длину стороны прямоугольника'))\n",
    "    two_side = (input('Введите длину стороны смежной данной стороне прямоугольника'))\n",
    "    s_p= int(one_side) * int(two_side)\n",
    "    print('Площадь прямоугольника:',s_p)\n",
    "elif figure=='треугольник':\n",
    "    one_side = (input('Введите длину первой стороны прямоугольника'))\n",
    "    two_side = (input('Введите длину второй стороны прямоугольника'))\n",
    "    three_side = (input('Введите длину третьей стороны прямоугольника'))\n",
    "    per= (int(one_side)+int(two_side)+int(three_side))/2\n",
    "    treangle_s=per*(per - int(one_side))*(per - int(two_side))*(per - int(three_side))\n",
    "    treangle=math.sqrt(int(treangle_s))\n",
    "    print('Площадь треугольника:',int(treangle))\n",
    "    \n",
    "    "
   ]
  },
  {
   "cell_type": "code",
   "execution_count": null,
   "metadata": {},
   "outputs": [],
   "source": []
  }
 ],
 "metadata": {
  "kernelspec": {
   "display_name": "Python 3",
   "language": "python",
   "name": "python3"
  },
  "language_info": {
   "codemirror_mode": {
    "name": "ipython",
    "version": 3
   },
   "file_extension": ".py",
   "mimetype": "text/x-python",
   "name": "python",
   "nbconvert_exporter": "python",
   "pygments_lexer": "ipython3",
   "version": "3.8.5"
  }
 },
 "nbformat": 4,
 "nbformat_minor": 4
}
