{
 "cells": [
  {
   "cell_type": "markdown",
   "metadata": {},
   "source": [
    "# Задание 1"
   ]
  },
  {
   "cell_type": "code",
   "execution_count": null,
   "metadata": {},
   "outputs": [],
   "source": [
    "phrase_1 = \"родила царица в ночь\"\n",
    "phrase_2 = \"не то сына, не то дочь\"\n",
    "\n",
    "if len(phrase_1) > len(phrase_2):\n",
    "    print(\"Первая фраза длиннее\")\n",
    "if len(phrase_1) < len(phrase_2):\n",
    "    print(\"Вторая фраза длиннее\")\n",
    "else:\n",
    "    print(\"Фразы равны\")"
   ]
  },
  {
   "cell_type": "markdown",
   "metadata": {},
   "source": [
    "# Задание 2"
   ]
  },
  {
   "cell_type": "code",
   "execution_count": 8,
   "metadata": {},
   "outputs": [
    {
     "name": "stdout",
     "output_type": "stream",
     "text": [
      "Введите год 1990\n",
      "Год не високосный\n"
     ]
    }
   ],
   "source": [
    "year = int(input(\"Введите год \"))\n",
    "if (year % 4 == 0) and (year % 100 != 0) or (year % 400 == 0):\n",
    "    print(\"Год високосный\")\n",
    "else:\n",
    "    print('Год не високосный')"
   ]
  },
  {
   "cell_type": "markdown",
   "metadata": {},
   "source": [
    "# Задание 3"
   ]
  },
  {
   "cell_type": "code",
   "execution_count": 38,
   "metadata": {},
   "outputs": [
    {
     "name": "stdout",
     "output_type": "stream",
     "text": [
      "Введите месяц вашего рождения январь\n",
      "Введите день вашего рождения 7\n",
      "Ваш знак зодиака: Козерог\n"
     ]
    }
   ],
   "source": [
    "mounth = input(\"Введите месяц вашего рождения \")\n",
    "day = int(input(\"Введите день вашего рождения \"))\n",
    "\n",
    "if (day >= 21 and mounth == \"март\"):\n",
    "    print(\"Ваш знак зодиака: Овен\")\n",
    "if (day <= 20 and mounth == \"март\"):\n",
    "    print(\"Ваш знак зодиака: Рыбы\")\n",
    "\n",
    "if (day <= 20 and mounth == \"апрель\"):\n",
    "    print(\"Ваш знак зодиака: Овен\")    \n",
    "if (day >= 21 and mounth == \"апрель\"):\n",
    "    print(\"Ваш знак зодиака: Телец\")\n",
    "    \n",
    "if (day <= 21 and mounth == \"май\"):\n",
    "    print(\"Ваш знак зодиака: Телец\")    \n",
    "if (day >= 22 and mounth == \"май\"):\n",
    "    print(\"Ваш знак зодиака: Близнецы\")\n",
    "\n",
    "if (day <= 21 and mounth == \"июнь\"):\n",
    "    print(\"Ваш знак зодиака: Близнецы\")    \n",
    "if (day >= 22 and mounth == \"июнь\"):\n",
    "    print(\"Ваш знак зодиака: Рак\")\n",
    "        \n",
    "if (day <= 22 and mounth == \"июль\"):\n",
    "    print(\"Ваш знак зодиака: Рак\")    \n",
    "if (day >= 23 and mounth == \"июль\"):\n",
    "    print(\"Ваш знак зодиака: Лев\")\n",
    "        \n",
    "if (day <= 21 and mounth == \"август\"):\n",
    "    print(\"Ваш знак зодиака: Лев\")    \n",
    "if (day >= 22 and mounth == \"август\"):\n",
    "    print(\"Ваш знак зодиака: Дева\")\n",
    "        \n",
    "if (day <= 23 and mounth == \"сентябрь\"):\n",
    "    print(\"Ваш знак зодиака: Дева\")    \n",
    "if (day >= 24 and mounth == \"сентябрь\"):\n",
    "    print(\"Ваш знак зодиака: Весы\")\n",
    "        \n",
    "if (day <= 23 and mounth == \"октябрь\"):\n",
    "    print(\"Ваш знак зодиака: Весы\")    \n",
    "if (day >= 24 and mounth == \"октябрь\"):\n",
    "    print(\"Ваш знак зодиака: Скорпион\")\n",
    "        \n",
    "if (day <= 22 and mounth == \"ноябрь\"):\n",
    "    print(\"Ваш знак зодиака: Скорпион\")    \n",
    "if (day >= 23 and mounth == \"ноябрь\"):\n",
    "    print(\"Ваш знак зодиака: Стрелец\")\n",
    "        \n",
    "if (day <= 22 and mounth == \"декабрь\"):\n",
    "    print(\"Ваш знак зодиака: Стрелец\")    \n",
    "if (day >= 23 and mounth == \"декабрь\"):\n",
    "    print(\"Ваш знак зодиака: Козерог\")\n",
    "        \n",
    "if (day <= 20 and mounth == \"январь\"):\n",
    "    print(\"Ваш знак зодиака: Козерог\")    \n",
    "if (day >= 21 and mounth == \"январь\"):\n",
    "    print(\"Ваш знак зодиака: Водолей\")\n",
    "        \n",
    "if (day <= 19 and mounth == \"февраль\"):\n",
    "    print(\"Ваш знак зодиака: Водолей\")\n",
    "if (day >= 20 and mounth == \"февраль\"):\n",
    "    print(\"Ваш знак зодиака: Рыбы\")\n",
    "\n",
    "\n",
    "    \n"
   ]
  },
  {
   "cell_type": "markdown",
   "metadata": {},
   "source": [
    "# Задание 4"
   ]
  },
  {
   "cell_type": "code",
   "execution_count": 67,
   "metadata": {},
   "outputs": [
    {
     "name": "stdout",
     "output_type": "stream",
     "text": [
      "Укажите ширину в см 70\n",
      "Укажите длину в см 78\n",
      "Укажите высоту в см 78\n",
      "Коробка №3\n"
     ]
    }
   ],
   "source": [
    "width = int(input(\"Укажите ширину в см \"))\n",
    "length =int(input(\"Укажите длину в см \"))\n",
    "height = int(input(\"Укажите высоту в см \"))\n",
    "\n",
    "if length >= 2000 and width < 15 and height < 15 and length and width < 50 and height < 50 :\n",
    "    print(\"Упаковка для лыж\") \n",
    "    \n",
    "if width < 15 and height < 15 and length < 15:\n",
    "    print(\"Коробка №1\")\n",
    "    \n",
    "if (width or length or height) > 15 and width < 50 and height < 50 and length <=2000:\n",
    "    print(\"Коробка №2\")\n",
    "if width > 50 or height > 50:\n",
    "    print(\"Стандартная коробка №3\")\n",
    "    \n",
    "\n"
   ]
  },
  {
   "cell_type": "markdown",
   "metadata": {},
   "source": [
    "# Задание 5"
   ]
  },
  {
   "cell_type": "code",
   "execution_count": 71,
   "metadata": {},
   "outputs": [
    {
     "name": "stdout",
     "output_type": "stream",
     "text": [
      "Введите 6-значный номер билета 001002\n",
      "Билет обычный\n"
     ]
    }
   ],
   "source": [
    "ticket = (input(\"Введите 6-значный номер билета \"))\n",
    "one_part = int(ticket[0]) + int(ticket[1]) + int(ticket[2])\n",
    "two_part = int(ticket[3]) + int(ticket[4]) + int(ticket[5])\n",
    "\n",
    "if one_part == two_part:\n",
    "    print(\"Ваш билет счастливый\")\n",
    "else: \n",
    "    print(\"Билет обычный\")"
   ]
  },
  {
   "cell_type": "code",
   "execution_count": null,
   "metadata": {},
   "outputs": [],
   "source": []
  }
 ],
 "metadata": {
  "kernelspec": {
   "display_name": "Python 3",
   "language": "python",
   "name": "python3"
  },
  "language_info": {
   "codemirror_mode": {
    "name": "ipython",
    "version": 3
   },
   "file_extension": ".py",
   "mimetype": "text/x-python",
   "name": "python",
   "nbconvert_exporter": "python",
   "pygments_lexer": "ipython3",
   "version": "3.8.5"
  }
 },
 "nbformat": 4,
 "nbformat_minor": 4
}
