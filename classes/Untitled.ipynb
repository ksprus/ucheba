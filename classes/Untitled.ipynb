{
 "cells": [
  {
   "cell_type": "markdown",
   "metadata": {},
   "source": [
    "# Домашнее задание к лекции «Понятие класса»"
   ]
  },
  {
   "cell_type": "markdown",
   "metadata": {},
   "source": [
    "## Задание 1"
   ]
  },
  {
   "cell_type": "code",
   "execution_count": 373,
   "metadata": {},
   "outputs": [
    {
     "data": {
      "text/plain": [
       "'СДР (специальные права заимствования)'"
      ]
     },
     "execution_count": 373,
     "metadata": {},
     "output_type": "execute_result"
    }
   ],
   "source": [
    "import requests\n",
    "from libs.exchange import Rate\n",
    "\n",
    "class Rate():\n",
    "    def name_valute():\n",
    "        max_value =[]\n",
    "        valute_name = requests.get('https://www.cbr-xml-daily.ru/daily_json.js').json()\n",
    "        for i in valute_name['Valute'].values():\n",
    "            max_value += [i['Value']]\n",
    "        a = (max(max_value))\n",
    "        for i in valute_name['Valute'].values():\n",
    "            if i['Value'] == a:\n",
    "                return i['Name']\n",
    "    \n",
    "Rate.name_valute()"
   ]
  },
  {
   "cell_type": "markdown",
   "metadata": {},
   "source": [
    "## Задание 2"
   ]
  },
  {
   "cell_type": "code",
   "execution_count": 372,
   "metadata": {},
   "outputs": [
    {
     "ename": "TypeError",
     "evalue": "name_valute() takes 0 positional arguments but 1 was given",
     "output_type": "error",
     "traceback": [
      "\u001b[1;31m---------------------------------------------------------------------------\u001b[0m",
      "\u001b[1;31mTypeError\u001b[0m                                 Traceback (most recent call last)",
      "\u001b[1;32m<ipython-input-372-7a8f41f378a3>\u001b[0m in \u001b[0;36m<module>\u001b[1;34m\u001b[0m\n\u001b[0;32m     55\u001b[0m \u001b[0mr\u001b[0m \u001b[1;33m=\u001b[0m \u001b[0mRate\u001b[0m\u001b[1;33m(\u001b[0m\u001b[1;33m)\u001b[0m\u001b[1;33m\u001b[0m\u001b[1;33m\u001b[0m\u001b[0m\n\u001b[0;32m     56\u001b[0m \u001b[1;33m\u001b[0m\u001b[0m\n\u001b[1;32m---> 57\u001b[1;33m \u001b[0mr\u001b[0m\u001b[1;33m.\u001b[0m\u001b[0mname_valute\u001b[0m\u001b[1;33m(\u001b[0m\u001b[1;33m)\u001b[0m\u001b[1;33m\u001b[0m\u001b[1;33m\u001b[0m\u001b[0m\n\u001b[0m\u001b[0;32m     58\u001b[0m \u001b[1;33m\u001b[0m\u001b[0m\n",
      "\u001b[1;31mTypeError\u001b[0m: name_valute() takes 0 positional arguments but 1 was given"
     ]
    }
   ],
   "source": [
    "from libs.exchange import Rate\n",
    "import requests\n",
    "\n",
    "class Rate(Rate):\n",
    "    \n",
    "    def __init__(self, format_='value'):\n",
    "        self.format = format_\n",
    "    def exchange_rates(self):\n",
    "        self.r = requests.get('https://www.cbr-xml-daily.ru/daily_json.js')\n",
    "        return self.r.json()['Valute']\n",
    "    \n",
    "    def make_format(self, currency):\n",
    "\n",
    "        response = self.exchange_rates()\n",
    "        \n",
    "        if currency in response:\n",
    "            if self.format == 'full':\n",
    "                return response[currency]\n",
    "            \n",
    "            if self.format == 'value':\n",
    "                return response[currency]['Value']\n",
    "        \n",
    "        return 'Error'\n",
    "    \n",
    "\n",
    "    def name_valute():\n",
    "        max_value =[]\n",
    "        valute_name = requests.get('https://www.cbr-xml-daily.ru/daily_json.js').json()\n",
    "        for i in valute_name['Valute'].values():\n",
    "            max_value += [i['Value']]\n",
    "        a = (max(max_value))\n",
    "        for i in valute_name['Valute'].values():\n",
    "            if i['Value'] == a:\n",
    "                return i['Name']\n",
    "\n",
    "    def diff(self):\n",
    "        def make_format(self, currency):\n",
    "            response = self.exchange_rates()\n",
    "        \n",
    "            if currency in response:\n",
    "                if self.format == 'full':\n",
    "                    return response[currency]\n",
    "            \n",
    "                if format_ == 'value':\n",
    "                    value = response[currency]['Value']\n",
    "                    previous= response[currency]['Previous']\n",
    "                    different=value - previous\n",
    "                    response[currency][different]=str(different)[:5]\n",
    "                    make = response[currency][different]\n",
    "                    return make\n",
    "            return 'Error'\n",
    "\n",
    "    \n",
    "   \n",
    "r = Rate()\n",
    "\n",
    "r.name_valute()\n",
    "\n"
   ]
  },
  {
   "cell_type": "code",
   "execution_count": null,
   "metadata": {},
   "outputs": [],
   "source": []
  }
 ],
 "metadata": {
  "kernelspec": {
   "display_name": "Python 3",
   "language": "python",
   "name": "python3"
  },
  "language_info": {
   "codemirror_mode": {
    "name": "ipython",
    "version": 3
   },
   "file_extension": ".py",
   "mimetype": "text/x-python",
   "name": "python",
   "nbconvert_exporter": "python",
   "pygments_lexer": "ipython3",
   "version": "3.8.5"
  }
 },
 "nbformat": 4,
 "nbformat_minor": 4
}
