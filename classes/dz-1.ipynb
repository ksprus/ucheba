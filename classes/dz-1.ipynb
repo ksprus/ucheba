{
 "cells": [
  {
   "cell_type": "markdown",
   "metadata": {},
   "source": [
    "# Домашнее задание к лекции «Понятие класса»"
   ]
  },
  {
   "cell_type": "markdown",
   "metadata": {},
   "source": [
    "## Задание 1"
   ]
  },
  {
   "cell_type": "code",
   "execution_count": 373,
   "metadata": {},
   "outputs": [
    {
     "data": {
      "text/plain": [
       "'СДР (специальные права заимствования)'"
      ]
     },
     "execution_count": 373,
     "metadata": {},
     "output_type": "execute_result"
    }
   ],
   "source": [
    "import requests\n",
    "from libs.exchange import Rate\n",
    "\n",
    "class Rate():\n",
    "    def name_valute():\n",
    "        max_value =[]\n",
    "        valute_name = requests.get('https://www.cbr-xml-daily.ru/daily_json.js').json()\n",
    "        for i in valute_name['Valute'].values():\n",
    "            max_value += [i['Value']]\n",
    "        a = (max(max_value))\n",
    "        for i in valute_name['Valute'].values():\n",
    "            if i['Value'] == a:\n",
    "                return i['Name']\n",
    "    \n",
    "Rate.name_valute()"
   ]
  },
  {
   "cell_type": "markdown",
   "metadata": {},
   "source": [
    "## Задание 2"
   ]
  },
  {
   "cell_type": "code",
   "execution_count": 203,
   "metadata": {},
   "outputs": [
    {
     "data": {
      "text/plain": [
       "0.74"
      ]
     },
     "execution_count": 203,
     "metadata": {},
     "output_type": "execute_result"
    }
   ],
   "source": [
    "from libs.exchange import Rate\n",
    "import requests\n",
    "\n",
    "class Rate(Rate):\n",
    "    \n",
    "    def __init__(self, format_='value'):\n",
    "        self.format = format_\n",
    "        \n",
    "    def exchange_rates(self):\n",
    "        self.r = requests.get('https://www.cbr-xml-daily.ru/daily_json.js')\n",
    "        return self.r.json()['Valute']\n",
    "    \n",
    "    def name_valute(valute_name):\n",
    "        max_value =[]\n",
    "        valute_name = requests.get('https://www.cbr-xml-daily.ru/daily_json.js').json()\n",
    "        for i in valute_name['Valute'].values():\n",
    "            max_value += [i['Value']]\n",
    "        a = (max(max_value))\n",
    "        for i in valute_name['Valute'].values():\n",
    "            if i['Value'] == a:\n",
    "                return i['Name']\n",
    "            \n",
    "    def diff(self):\n",
    "        if self.format == 'value':\n",
    "            self.diff = True\n",
    "            return self.diff\n",
    "    \n",
    "    def make_format(self, currency):\n",
    "        response = self.exchange_rates()\n",
    "        if self.diff() == True:\n",
    "            if self.format == 'value':\n",
    "                value = response[currency]['Value']\n",
    "                previous= response[currency]['Previous']\n",
    "                different=value - previous\n",
    "                response[currency][different]=str(different)[0:5]\n",
    "                make = response[currency][different]\n",
    "                if float(make) < 0:\n",
    "                    make = float(make)*-1\n",
    "                    return make\n",
    "                else:\n",
    "                    return make\n",
    "        \n",
    "        return 'Error'\n",
    "\n",
    "   \n",
    "r = Rate()\n",
    "#r.name_valute()\n",
    "#r.usd()\n",
    "\n",
    "\n",
    "\n"
   ]
  },
  {
   "cell_type": "markdown",
   "metadata": {},
   "source": [
    "## Задание 3"
   ]
  },
  {
   "cell_type": "code",
   "execution_count": 220,
   "metadata": {},
   "outputs": [
    {
     "name": "stdout",
     "output_type": "stream",
     "text": [
      "Дизайнер Ulya имеет 14-й - уровень мастерства, а также 2 международных премии\n",
      "Дизайнер Sergey имеет 10-й - уровень мастерства, а также 2 международных премии\n"
     ]
    }
   ],
   "source": [
    "class Employee:\n",
    "    def __init__(self, name, seniority):\n",
    "        self.name = name\n",
    "        self.seniority = seniority\n",
    "        \n",
    "        self.grade = 1\n",
    "    \n",
    "    def grade_info(self): #Вычисляем уровень мастерства дизайнера\n",
    "        self.grade\n",
    "        self.seniority -= 4 #Убираем баллы за премии\n",
    "        self.seniority\n",
    "        while self.seniority !=0:\n",
    "            self.seniority -=7\n",
    "            self.grade +=1\n",
    "            if self.seniority < 7:\n",
    "                break            \n",
    "        self.grade_info = self.grade\n",
    "        return (print('Дизайнер {0} имеет {1}-й - уровень мастерства, а также 2 международных премии'.format(self.name,self.grade_info)))    \n",
    "       \n",
    "\n",
    "    \n",
    "class Designer(Employee):\n",
    "    def __init__(self, name, seniority):\n",
    "        super().__init__(name, seniority)\n",
    "\n",
    "\n",
    "Sergey = Designer('Sergey', 70)\n",
    "Ulya = Designer('Ulya', 100)\n",
    "Ulya.grade_info()\n",
    "Sergey.grade_info()\n",
    "\n"
   ]
  }
 ],
 "metadata": {
  "kernelspec": {
   "display_name": "Python 3",
   "language": "python",
   "name": "python3"
  },
  "language_info": {
   "codemirror_mode": {
    "name": "ipython",
    "version": 3
   },
   "file_extension": ".py",
   "mimetype": "text/x-python",
   "name": "python",
   "nbconvert_exporter": "python",
   "pygments_lexer": "ipython3",
   "version": "3.8.5"
  }
 },
 "nbformat": 4,
 "nbformat_minor": 4
}
