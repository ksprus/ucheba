{
 "cells": [
  {
   "cell_type": "markdown",
   "metadata": {},
   "source": [
    "# Домашнее задание к лекции «Исключения и обработка ошибок»"
   ]
  },
  {
   "cell_type": "markdown",
   "metadata": {},
   "source": [
    "## Задание 1"
   ]
  },
  {
   "cell_type": "code",
   "execution_count": 100,
   "metadata": {},
   "outputs": [
    {
     "data": {
      "text/plain": [
       "datetime.datetime(2002, 10, 2, 0, 0)"
      ]
     },
     "execution_count": 100,
     "metadata": {},
     "output_type": "execute_result"
    }
   ],
   "source": [
    "from datetime import datetime\n",
    "\n",
    "tmt_string='Wednesday, October 2, 2002'\n",
    "datetime_datetime=datetime.strptime(tmt_string, \"%A, %B %d, %Y\")\n",
    "datetime_datetime\n",
    "\n"
   ]
  },
  {
   "cell_type": "code",
   "execution_count": 101,
   "metadata": {},
   "outputs": [
    {
     "data": {
      "text/plain": [
       "datetime.datetime(2013, 10, 11, 0, 0)"
      ]
     },
     "execution_count": 101,
     "metadata": {},
     "output_type": "execute_result"
    }
   ],
   "source": [
    "from datetime import datetime\n",
    "    \n",
    "tg_string= 'Friday, 11.10.13'\n",
    "datetime_datetime=datetime.strptime(tg_string, \"%A, %d%m.%y\")\n",
    "datetime_datetime"
   ]
  },
  {
   "cell_type": "code",
   "execution_count": 102,
   "metadata": {},
   "outputs": [
    {
     "data": {
      "text/plain": [
       "datetime.datetime(1977, 8, 18, 0, 0)"
      ]
     },
     "execution_count": 102,
     "metadata": {},
     "output_type": "execute_result"
    }
   ],
   "source": [
    "from datetime import datetime\n",
    "    \n",
    "dn_string= 'Thursday, 18 August 1977'\n",
    "datetime_datetime=datetime.strptime(dn_string, \"%A, %d %B %Y\")\n",
    "datetime_datetime"
   ]
  },
  {
   "cell_type": "markdown",
   "metadata": {},
   "source": [
    "## Задание 2"
   ]
  },
  {
   "cell_type": "code",
   "execution_count": 116,
   "metadata": {},
   "outputs": [
    {
     "name": "stdout",
     "output_type": "stream",
     "text": [
      "true\n",
      "false\n",
      "false\n"
     ]
    }
   ],
   "source": [
    "from datetime import datetime\n",
    "\n",
    "stream = ['2018-04-02', '2018-02-29', '2018-19-02']\n",
    "for i in stream:\n",
    "        try:\n",
    "            datetime_datetime=datetime.strptime(i, \"%Y-%m-%d\")\n",
    "            datetime_datetime\n",
    "            print('true')\n",
    "        except ValueError:\n",
    "            print('false')\n",
    "        \n",
    "        \n",
    "    "
   ]
  },
  {
   "cell_type": "markdown",
   "metadata": {},
   "source": [
    "## Задание 3"
   ]
  },
  {
   "cell_type": "code",
   "execution_count": 217,
   "metadata": {},
   "outputs": [
    {
     "data": {
      "text/plain": [
       "['2020-12-11', '2020-12-12', '2020-12-13', '2020-12-14', '2020-12-15']"
      ]
     },
     "execution_count": 217,
     "metadata": {},
     "output_type": "execute_result"
    }
   ],
   "source": [
    "from datetime import datetime, timedelta\n",
    "  \n",
    "start = '2020-12-11'\n",
    "end = '2020-12-15'\n",
    "\n",
    "def date_range():   \n",
    "    date_list = []    \n",
    "    try: \n",
    "        start_date = datetime.strptime(start, '%Y-%m-%d')\n",
    "        end_date = datetime.strptime(end, '%Y-%m-%d') \n",
    "        if start_date > end_date:\n",
    "            print(\"Начальная дата не может быть больше конечной\")\n",
    "            date_list=[]\n",
    "            return date_list\n",
    "        else:\n",
    "            while start_date <= end_date:            \n",
    "                date_list += [start_date.strftime('%Y-%m-%d')]\n",
    "                start_date +=timedelta(days=1)\n",
    "            return date_list\n",
    "    except ValueError:\n",
    "        print(\"Введена некорректная дата\")\n",
    "        date_list=[]\n",
    "        return date_list  \n",
    "\n",
    "date_range()"
   ]
  },
  {
   "cell_type": "markdown",
   "metadata": {},
   "source": [
    "## Задание 4"
   ]
  },
  {
   "cell_type": "markdown",
   "metadata": {},
   "source": [
    "1. Ошибка означает изменение считываемого списка(уменьшение) из-за удаленного элемента\n",
    "2. При первом запуске элемент еще находится в списке, при втором он уже отсутствует"
   ]
  }
 ],
 "metadata": {
  "kernelspec": {
   "display_name": "Python 3",
   "language": "python",
   "name": "python3"
  },
  "language_info": {
   "codemirror_mode": {
    "name": "ipython",
    "version": 3
   },
   "file_extension": ".py",
   "mimetype": "text/x-python",
   "name": "python",
   "nbconvert_exporter": "python",
   "pygments_lexer": "ipython3",
   "version": "3.8.5"
  }
 },
 "nbformat": 4,
 "nbformat_minor": 4
}
