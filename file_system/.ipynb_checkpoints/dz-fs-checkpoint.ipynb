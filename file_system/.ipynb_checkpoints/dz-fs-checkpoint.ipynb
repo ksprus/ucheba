{
 "cells": [
  {
   "cell_type": "markdown",
   "metadata": {},
   "source": [
    "## Задание 1\n",
    "\n",
    "\n"
   ]
  },
  {
   "cell_type": "code",
   "execution_count": null,
   "metadata": {},
   "outputs": [],
   "source": [
    "import json\n",
    "purchases={}\n",
    "with open('purchase_log.txt', 'r', encoding='utf-8') as f:\n",
    "    f.readline()\n",
    "    for line in f:\n",
    "        line=line.strip()\n",
    "        proba=json.loads(line)\n",
    "        a = proba['user_id']\n",
    "        b = proba['category']\n",
    "        if a not in purchases:\n",
    "            purchases.update({a: b})\n",
    "#проверка словаря\n",
    "#for i in purchases.items():\n",
    "    #print(i)\n",
    "            "
   ]
  },
  {
   "cell_type": "markdown",
   "metadata": {},
   "source": [
    "## Задание 2"
   ]
  },
  {
   "cell_type": "code",
   "execution_count": null,
   "metadata": {},
   "outputs": [],
   "source": [
    "import json\n",
    "\n",
    "purchases={}\n",
    "\n",
    "with open('purchase_log.txt', 'r', encoding='utf-8') as f:\n",
    "    f.readline()\n",
    "    for line in f:\n",
    "        line=line.strip()\n",
    "        proba=json.loads(line)\n",
    "        a = proba['user_id']\n",
    "        b = proba['category']\n",
    "        if a not in purchases:\n",
    "            purchases.update({a: b}) # добавляем ключ в словарь\n",
    "with open('visit_log.csv', 'r') as visit: \n",
    "    with open('funnel.csv', 'w') as funnel:\n",
    "        print(\"Начинаю обработку данных\")\n",
    "        for line in visit: \n",
    "            line_list = line.strip().split(',')\n",
    "            i=line_list[0]           \n",
    "            for key,value in purchases.items():\n",
    "                if key == i:                    \n",
    "                    result= (\"{0},{1},{2}\").format(key,value,line_list[1])\n",
    "                    funnel.write(result+'\\n')\n",
    "                    print(\"Данные обрабатывыаются\")\n",
    "        print(\"Обработка данных завершена\")"
   ]
  },
  {
   "cell_type": "code",
   "execution_count": null,
   "metadata": {},
   "outputs": [],
   "source": []
  }
 ],
 "metadata": {
  "kernelspec": {
   "display_name": "Python 3",
   "language": "python",
   "name": "python3"
  },
  "language_info": {
   "codemirror_mode": {
    "name": "ipython",
    "version": 3
   },
   "file_extension": ".py",
   "mimetype": "text/x-python",
   "name": "python",
   "nbconvert_exporter": "python",
   "pygments_lexer": "ipython3",
   "version": "3.8.5"
  }
 },
 "nbformat": 4,
 "nbformat_minor": 4
}
