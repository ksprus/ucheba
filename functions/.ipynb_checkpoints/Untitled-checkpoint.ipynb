{
 "cells": [
  {
   "cell_type": "code",
   "execution_count": 21,
   "metadata": {},
   "outputs": [
    {
     "data": {
      "text/plain": [
       "'\\ndef main():\\n    while True:\\n        quare =input(\"Введите команду\")\\n        if quare == \\'p\\':\\n            def vladelec():\\n                x=input(\"Введите номер документа\")\\n                for number in documents:\\n                    if number ==x:\\n                        print(\\'name\\')\\n            vladelec()\\n        elif quare == \\'s\\':\\n            print(\"Введите номер документа\")\\n        elif quare == \\'q\\':\\n            print(\"Завершение работы\")\\n            break\\nmain()\\n'"
      ]
     },
     "execution_count": 21,
     "metadata": {},
     "output_type": "execute_result"
    }
   ],
   "source": [
    "documents = [\n",
    " {'type': 'passport', 'number': '2207 876234', 'name': 'Василий Гупкин'},\n",
    " {'type': 'invoice', 'number': '11-2', 'name': 'Геннадий Покемонов'},\n",
    " {'type': 'insurance', 'number': '10006', 'name': 'Аристарх Павлов'}\n",
    "]\n",
    "\n",
    "directories = {\n",
    " '1': ['2207 876234', '11-2'],\n",
    " '2': ['10006'],\n",
    " '3': []\n",
    "}\n",
    "\"\"\"\n",
    "def main():\n",
    "    while True:\n",
    "        quare =input(\"Введите команду\")\n",
    "        if quare == 'p':\n",
    "            def vladelec():\n",
    "                x=input(\"Введите номер документа\")\n",
    "                for number in documents:\n",
    "                    if number ==x:\n",
    "                        print('name')\n",
    "            vladelec()\n",
    "        elif quare == 's':\n",
    "            print(\"Введите номер документа\")\n",
    "        elif quare == 'q':\n",
    "            print(\"Завершение работы\")\n",
    "            break\n",
    "main()\n",
    "\"\"\""
   ]
  },
  {
   "cell_type": "code",
   "execution_count": 35,
   "metadata": {},
   "outputs": [
    {
     "name": "stdout",
     "output_type": "stream",
     "text": [
      "Введите номер документа 12\n"
     ]
    }
   ],
   "source": [
    "documents = [\n",
    " {'type': 'passport', 'number': '2207 876234', 'name': 'Василий Гупкин'},\n",
    " {'type': 'invoice', 'number': '11-2', 'name': 'Геннадий Покемонов'},\n",
    " {'type': 'insurance', 'number': '10006', 'name': 'Аристарх Павлов'}\n",
    "]\n",
    "\n",
    "directories = {\n",
    " '1': ['2207 876234', '11-2'],\n",
    " '2': ['10006'],\n",
    " '3': []\n",
    "}\n",
    "\n",
    "a=input(\"Введите номер документа \")\n",
    "for i in documents:\n",
    "    for x in i.values():\n",
    "        if x == a:\n",
    "            print(\"Владелец документа:\", i['name'])\n",
    "\n",
    "\n",
    "   \n"
   ]
  },
  {
   "cell_type": "code",
   "execution_count": 95,
   "metadata": {},
   "outputs": [
    {
     "name": "stdout",
     "output_type": "stream",
     "text": [
      "Введите номер документа 11-2\n",
      "Документ хранится на полке: 1\n"
     ]
    }
   ],
   "source": [
    "documents = [\n",
    " {'type': 'passport', 'number': '2207 876234', 'name': 'Василий Гупкин'},\n",
    " {'type': 'invoice', 'number': '11-2', 'name': 'Геннадий Покемонов'},\n",
    " {'type': 'insurance', 'number': '10006', 'name': 'Аристарх Павлов'}\n",
    "]\n",
    "\n",
    "directories = {\n",
    " '1': ['2207 876234', '11-2'],\n",
    " '2': ['10006'],\n",
    " '3': []\n",
    "}\n",
    "\n",
    "a=input(\"Введите номер документа \")\n",
    "for i in directories.items():\n",
    "        for x in i:\n",
    "            for b in x:\n",
    "                if b == a:\n",
    "                    print(\"Документ хранится на полке: {0}\".format(i[0]))\n"
   ]
  },
  {
   "cell_type": "code",
   "execution_count": 2,
   "metadata": {},
   "outputs": [
    {
     "name": "stdout",
     "output_type": "stream",
     "text": [
      "\n",
      "№2207 876234, тип: passport, владелец: Василий Гупкин, полка хранения: 1\n",
      "\n",
      "№11-2, тип: invoice, владелец: Геннадий Покемонов, полка хранения: 1\n",
      "\n",
      "№10006, тип: insurance, владелец: Аристарх Павлов, полка хранения: 2\n"
     ]
    }
   ],
   "source": [
    "documents = [\n",
    " {'type': 'passport', 'number': '2207 876234', 'name': 'Василий Гупкин'},\n",
    " {'type': 'invoice', 'number': '11-2', 'name': 'Геннадий Покемонов'},\n",
    " {'type': 'insurance', 'number': '10006', 'name': 'Аристарх Павлов'}\n",
    "]\n",
    "\n",
    "directories = {\n",
    " '1': ['2207 876234', '11-2'],\n",
    " '2': ['10006'],\n",
    " '3': []\n",
    "}\n",
    "\n",
    "for i in documents:\n",
    "    for x in directories.items():\n",
    "        for keys in x:\n",
    "            for number in keys:\n",
    "                if  i['number'] == number:\n",
    "                    print()\n",
    "                    print('№'+i['number']+',','тип:', i['type']+',','владелец:', i['name']+',','полка хранения:', x[0])\n",
    "        \n",
    "                    \n"
   ]
  },
  {
   "cell_type": "code",
   "execution_count": 67,
   "metadata": {},
   "outputs": [
    {
     "name": "stdout",
     "output_type": "stream",
     "text": [
      "Введите номер полки1\n",
      "Такая полка уже существует. Текущий перечень полок: 1,2,3,213\n"
     ]
    }
   ],
   "source": [
    "documents = [\n",
    " {'type': 'passport', 'number': '2207 876234', 'name': 'Василий Гупкин'},\n",
    " {'type': 'invoice', 'number': '11-2', 'name': 'Геннадий Покемонов'},\n",
    " {'type': 'insurance', 'number': '10006', 'name': 'Аристарх Павлов'}\n",
    "]\n",
    "\n",
    "directories = {\n",
    " '1': ['2207 876234', '11-2'],\n",
    " '2': ['10006'],\n",
    " '3': []\n",
    "}\n",
    "\n",
    "\n",
    "a=input(\"Введите номер полки\")\n",
    "\n",
    "catalog =[]\n",
    "if a not in directories:\n",
    "    for i in directories:\n",
    "        catalog += i    \n",
    "    directories[a]=[]\n",
    "    catalog = catalog + [a]\n",
    "    catalogStr = ','.join(catalog)\n",
    "    print('Полка добавлена. Текущий перечень полок:', catalogStr)\n",
    "\n",
    "elif a in directories:\n",
    "    print('Такая полка уже существует. Текущий перечень полок:', catalogStr)\n",
    "\n"
   ]
  },
  {
   "cell_type": "code",
   "execution_count": 141,
   "metadata": {},
   "outputs": [
    {
     "name": "stdout",
     "output_type": "stream",
     "text": [
      "Введите номер полки13\n",
      "Данной полки нет\n"
     ]
    }
   ],
   "source": [
    "documents = [\n",
    " {'type': 'passport', 'number': '2207 876234', 'name': 'Василий Гупкин'},\n",
    " {'type': 'invoice', 'number': '11-2', 'name': 'Геннадий Покемонов'},\n",
    " {'type': 'insurance', 'number': '10006', 'name': 'Аристарх Павлов'}\n",
    "]\n",
    "\n",
    "directories = {\n",
    " '1': ['2207 876234', '11-2'],\n",
    " '2': ['10006'],\n",
    " '3': []\n",
    "}\n",
    "\n",
    "a=input(\"Введите номер полки\")\n",
    "catalog =[]\n",
    "catalogStr=''\n",
    "if a in directories:\n",
    "    if directories[a]==[]:\n",
    "        del directories[a]\n",
    "        for i in directories:\n",
    "            catalog += i    \n",
    "            catalogStr = ','.join(catalog)\n",
    "        print('Полка удалена. Текущий перечень полок:',catalogStr)\n",
    "    elif a in directories !=[]:\n",
    "        for i in directories:\n",
    "            catalog += i    \n",
    "            catalogStr = ','.join(catalog)\n",
    "        print('На полке есть документ, удалите их перед удалением полки. Текущий перечень полок:',catalogStr)\n",
    "else:\n",
    "    print('Данной полки нет')\n",
    "\n",
    "            \n",
    "\n"
   ]
  },
  {
   "cell_type": "code",
   "execution_count": null,
   "metadata": {},
   "outputs": [
    {
     "name": "stdout",
     "output_type": "stream",
     "text": [
      "Введите командуds\n",
      "Введите номер полки1\n",
      "На полке есть документ, удалите их перед удалением полки. Текущий перечень полок: 1,2,3\n"
     ]
    }
   ],
   "source": [
    "documents = [\n",
    " {'type': 'passport', 'number': '2207 876234', 'name': 'Василий Гупкин'},\n",
    " {'type': 'invoice', 'number': '11-2', 'name': 'Геннадий Покемонов'},\n",
    " {'type': 'insurance', 'number': '10006', 'name': 'Аристарх Павлов'}\n",
    "]\n",
    "\n",
    "directories = {\n",
    " '1': ['2207 876234', '11-2'],\n",
    " '2': ['10006'],\n",
    " '3': []\n",
    "}\n",
    "\n",
    "def main():\n",
    "    while True:\n",
    "        quare =input(\"Введите команду\")\n",
    "        if quare == 'p':\n",
    "            def vladelec():\n",
    "                a=input(\"Введите номер документа \")\n",
    "                for i in documents:\n",
    "                    for x in i.values():\n",
    "                        if x == a:\n",
    "                            print(\"Владелец документа:\", i['name'])\n",
    "            vladelec()\n",
    "            \n",
    "        elif quare == 's':\n",
    "            def bookshelf():\n",
    "                a=input(\"Введите номер документа \")\n",
    "                for i in directories.items():\n",
    "                    for x in i:\n",
    "                        for b in x:\n",
    "                            if b == a:\n",
    "                                print(\"Документ хранится на полке: {0}\".format(i[0]))\n",
    "            bookshelf()\n",
    "            \n",
    "        elif quare == 'l':\n",
    "            def alldata():\n",
    "                for i in documents:\n",
    "                    for x in directories.items():\n",
    "                        for keys in x:\n",
    "                            for number in keys:\n",
    "                                if  i['number'] == number:\n",
    "                                    print('№'+i['number']+',','тип:', i['type']+',','владелец:', i['name']+',','полка хранения:', x[0])\n",
    "            alldata()\n",
    "        \n",
    "        \n",
    "        elif quare == 'as':\n",
    "            def new_bookshelf():\n",
    "                a=input(\"Введите номер полки\")\n",
    "                catalog =[]\n",
    "                catalogStr=''\n",
    "                if a not in directories:\n",
    "                    for i in directories:\n",
    "                        catalog += i    \n",
    "                    directories[a]=[]\n",
    "                    catalog = catalog + [a]\n",
    "                    catalogStr = ','.join(catalog)\n",
    "                    print('Полка добавлена. Текущий перечень полок:', catalogStr)\n",
    "                elif a in directories:\n",
    "                    print('Такая полка уже существует. Текущий перечень полок:', catalogStr)\n",
    "            new_bookshelf()\n",
    "            \n",
    "        \n",
    "        elif quare == 'ds':\n",
    "            def delbookshelf():\n",
    "                a=input(\"Введите номер полки\")\n",
    "                catalog =[]\n",
    "                catalogStr=''\n",
    "                if a in directories:\n",
    "                    if directories[a]==[]:\n",
    "                        del directories[a]\n",
    "                        for i in directories:\n",
    "                            catalog += i    \n",
    "                            catalogStr = ','.join(catalog)\n",
    "                        print('Полка удалена. Текущий перечень полок:',catalogStr)\n",
    "                if a in directories !=[]:\n",
    "                    for i in directories:\n",
    "                        catalog += i    \n",
    "                        catalogStr = ','.join(catalog)\n",
    "                    print('На полке есть документы, удалите их перед удалением полки. Текущий перечень полок:',catalogStr)\n",
    "                else:\n",
    "                    print('Данной полки нет')\n",
    "            delbookshelf()\n",
    "                \n",
    "            \n",
    "        \n",
    "            \n",
    "            \n",
    "        elif quare == 'q':\n",
    "            print(\"Завершение работы\")\n",
    "            break\n",
    "main()\n"
   ]
  },
  {
   "cell_type": "code",
   "execution_count": null,
   "metadata": {},
   "outputs": [],
   "source": []
  },
  {
   "cell_type": "code",
   "execution_count": null,
   "metadata": {},
   "outputs": [],
   "source": []
  }
 ],
 "metadata": {
  "kernelspec": {
   "display_name": "Python 3",
   "language": "python",
   "name": "python3"
  },
  "language_info": {
   "codemirror_mode": {
    "name": "ipython",
    "version": 3
   },
   "file_extension": ".py",
   "mimetype": "text/x-python",
   "name": "python",
   "nbconvert_exporter": "python",
   "pygments_lexer": "ipython3",
   "version": "3.8.5"
  }
 },
 "nbformat": 4,
 "nbformat_minor": 4
}
