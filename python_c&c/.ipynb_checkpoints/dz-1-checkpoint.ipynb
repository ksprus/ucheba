{
 "cells": [
  {
   "cell_type": "markdown",
   "metadata": {},
   "source": [
    "# Задание 1"
   ]
  },
  {
   "cell_type": "code",
   "execution_count": null,
   "metadata": {},
   "outputs": [],
   "source": [
    "word = input(\"Введите слово \")\n",
    "if len(word) % 2 != 0: #проверяем на деление с остатком\n",
    "    odd = int(len(word)) // 2 #длину делим на 2 части\n",
    "    print(word[odd])\n",
    "    \n",
    "if len(word) % 2 == 0:\n",
    "    even = int(len(word)) // 2\n",
    "    print(word[even - 1] + word[even])"
   ]
  },
  {
   "cell_type": "markdown",
   "metadata": {},
   "source": [
    "# Задание 2"
   ]
  },
  {
   "cell_type": "code",
   "execution_count": 36,
   "metadata": {
    "scrolled": true
   },
   "outputs": [
    {
     "name": "stdout",
     "output_type": "stream",
     "text": [
      "Введите число, для завершения цикла введите 0 12\n",
      "Введите число, для завершения цикла введите 0 13\n",
      "Введите число, для завершения цикла введите 0 0\n",
      "Сумма чисел: 25\n"
     ]
    }
   ],
   "source": [
    "i = 0\n",
    "sum = 0\n",
    "while True:\n",
    "    x = int(input(\"Введите число, для завершения цикла введите 0 \"))\n",
    "    if x == 0:\n",
    "        print('Сумма чисел:', sum)\n",
    "        break\n",
    "    x = int(x)\n",
    "    sum += x\n",
    "    i += 1  "
   ]
  },
  {
   "cell_type": "markdown",
   "metadata": {},
   "source": [
    "# Задание 3"
   ]
  },
  {
   "cell_type": "code",
   "execution_count": 2,
   "metadata": {},
   "outputs": [
    {
     "name": "stdout",
     "output_type": "stream",
     "text": [
      "Идеальные пары:\n",
      "Akeksandra и Anton\n",
      "Jenya и Denis\n",
      "Katya и Egor\n",
      "Masha и Petr\n",
      "Milena и Slava\n",
      "Sveta и Viktor\n"
     ]
    }
   ],
   "source": [
    "boys = ['Anton', 'Egor', 'Slava', 'Denis', 'Petr', 'Viktor']\n",
    "girls = ['Masha', 'Katya', 'Jenya', 'Sveta', 'Akeksandra', 'Milena']\n",
    "\n",
    "if len(girls) != len(boys):\n",
    "    print(\"Кто-то может остаться без пары\")\n",
    "if len(girls) == len(boys):\n",
    "    boys_s = sorted(boys)\n",
    "    girls_s = sorted(girls)\n",
    "    print(\"Идеальные пары:\")\n",
    "    i = 0\n",
    "    while i < len(boys_s):\n",
    "        print(str(girls_s[i]), 'и', str(boys_s[i]))\n",
    "        i = i + 1\n",
    "\n",
    "   "
   ]
  },
  {
   "cell_type": "markdown",
   "metadata": {},
   "source": [
    "# Задание 4"
   ]
  },
  {
   "cell_type": "code",
   "execution_count": 145,
   "metadata": {},
   "outputs": [
    {
     "name": "stdout",
     "output_type": "stream",
     "text": [
      "Средняя температура в странах\n",
      "Thailand - 23 C\n",
      "Germany - 13 C\n",
      "Russia - 3 C\n",
      "Poland - 11 C\n"
     ]
    }
   ],
   "source": [
    "countries_temperature = [\n",
    "['Thailand', [75.2, 77, 78.8, 73.4, 68, 75.2, 77]],\n",
    "['Germany', [57.2, 55.4, 59, 59, 53.6]],\n",
    "['Russia', [35.6, 37.4, 39.2, 41, 42.8, 39.2, 35.6]],\n",
    "['Poland', [50, 50, 53.6, 57.2, 55.4, 55.4]]\n",
    "]\n",
    "\n",
    "\n",
    "print(\"Средняя температура в странах\")\n",
    "\n",
    "\n",
    "for item in countries_temperature:\n",
    "    res = 0\n",
    "    for k in item[1]:\n",
    "        res = res + k\n",
    "        result = (res / len(item[1])-32) / 1.8\n",
    "    print(item[0], '-' , int(result), 'C')\n",
    "    \n",
    "   \n",
    "\n",
    "\n",
    "\n",
    "\n"
   ]
  },
  {
   "cell_type": "code",
   "execution_count": null,
   "metadata": {},
   "outputs": [],
   "source": []
  }
 ],
 "metadata": {
  "kernelspec": {
   "display_name": "Python 3",
   "language": "python",
   "name": "python3"
  },
  "language_info": {
   "codemirror_mode": {
    "name": "ipython",
    "version": 3
   },
   "file_extension": ".py",
   "mimetype": "text/x-python",
   "name": "python",
   "nbconvert_exporter": "python",
   "pygments_lexer": "ipython3",
   "version": "3.8.5"
  }
 },
 "nbformat": 4,
 "nbformat_minor": 4
}
