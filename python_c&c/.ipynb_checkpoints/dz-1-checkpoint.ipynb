{
 "cells": [
  {
   "cell_type": "markdown",
   "metadata": {},
   "source": [
    "# Задание 1"
   ]
  },
  {
   "cell_type": "code",
   "execution_count": null,
   "metadata": {},
   "outputs": [],
   "source": [
    "word = input(\"Введите слово \")\n",
    "if len(word) % 2 != 0: #проверяем на деление с остатком\n",
    "    odd = int(len(word)) // 2 #длину делим на 2 части\n",
    "    print(word[odd])\n",
    "    \n",
    "if len(word) % 2 == 0:\n",
    "    even = int(len(word)) // 2\n",
    "    print(word[even - 1] + word[even])"
   ]
  },
  {
   "cell_type": "markdown",
   "metadata": {},
   "source": [
    "# Задание 2"
   ]
  },
  {
   "cell_type": "code",
   "execution_count": 36,
   "metadata": {
    "scrolled": true
   },
   "outputs": [
    {
     "name": "stdout",
     "output_type": "stream",
     "text": [
      "Введите число, для завершения цикла введите 0 12\n",
      "Введите число, для завершения цикла введите 0 13\n",
      "Введите число, для завершения цикла введите 0 0\n",
      "Сумма чисел: 25\n"
     ]
    }
   ],
   "source": [
    "i = 0\n",
    "sum = 0\n",
    "while True:\n",
    "    x = int(input(\"Введите число, для завершения цикла введите 0 \"))\n",
    "    if x == 0:\n",
    "        print('Сумма чисел:', sum)\n",
    "        break\n",
    "    x = int(x)\n",
    "    sum += x\n",
    "    i += 1  "
   ]
  },
  {
   "cell_type": "markdown",
   "metadata": {},
   "source": [
    "# Задание 3"
   ]
  },
  {
   "cell_type": "code",
   "execution_count": 37,
   "metadata": {},
   "outputs": [
    {
     "name": "stdout",
     "output_type": "stream",
     "text": [
      "Идеальные пары:\n",
      "Akeksandra и Anton\n",
      "Jenya и Denis\n",
      "Katya и Egor\n",
      "Masha и Petr\n",
      "Milena и Slava\n",
      "Sveta и Viktor\n"
     ]
    }
   ],
   "source": [
    "boys = ['Anton', 'Egor', 'Slava', 'Denis', 'Petr', 'Viktor']\n",
    "girls = ['Masha', 'Katya', 'Jenya', 'Sveta', 'Akeksandra', 'Milena']\n",
    "boys_s = sorted(boys)\n",
    "girls_s = sorted(girls)\n",
    "i = 0\n",
    "if len(girls_s) != len(boys_s):\n",
    "    print(\"Кто-то может остаться без пары\")\n",
    "if len(girls_s) == len(boys_s):\n",
    "    print(\"Идеальные пары:\")\n",
    "    i = 0\n",
    "    while i < len(boys_s):\n",
    "        print(str(girls_s[i]), 'и', str(boys_s[i]))\n",
    "        i = i + 1\n",
    "\n",
    "   "
   ]
  },
  {
   "cell_type": "markdown",
   "metadata": {},
   "source": [
    "# Задание 4"
   ]
  },
  {
   "cell_type": "code",
   "execution_count": 80,
   "metadata": {},
   "outputs": [
    {
     "name": "stdout",
     "output_type": "stream",
     "text": [
      "Средняя температура в странах\n",
      "Thailand - 23 C\n",
      "Germany - 13 C\n",
      "Russia - 3 C\n",
      "Poland - 11 C\n"
     ]
    }
   ],
   "source": [
    "countries_temperature = [\n",
    "['Thailand', [75.2, 77, 78.8, 73.4, 68, 75.2, 77]],\n",
    "['Germany', [57.2, 55.4, 59, 59, 53.6]],\n",
    "['Russia', [35.6, 37.4, 39.2, 41, 42.8, 39.2, 35.6]],\n",
    "['Poland', [50, 50, 53.6, 57.2, 55.4, 55.4]]\n",
    "]\n",
    "\n",
    "one = countries_temperature[0][1]\n",
    "two = countries_temperature[1][1]\n",
    "three = countries_temperature[2][1]\n",
    "four = countries_temperature[3][1]\n",
    "one_sum = 0\n",
    "two_sum = 0\n",
    "three_sum = 0\n",
    "four_sum = 0\n",
    "\n",
    "for i in one:\n",
    "    one_sum = one_sum + i\n",
    "thailand =((one_sum / len(one))-32) / 1.8\n",
    "\n",
    "for i in two:\n",
    "    two_sum = two_sum + i\n",
    "germany =((two_sum / len(two))-32) / 1.8\n",
    "\n",
    "for i in three:\n",
    "    three_sum = three_sum + i\n",
    "russia =((three_sum / len(three))-32) / 1.8\n",
    "\n",
    "for i in four:\n",
    "    four_sum = four_sum + i\n",
    "poland =((four_sum / len(four))-32) / 1.8\n",
    "\n",
    "print(\"Средняя температура в странах\")\n",
    "print(str(countries_temperature[0][0]), '-', int(thailand), 'C')\n",
    "print(str(countries_temperature[1][0]), '-', int(germany), 'C')\n",
    "print(str(countries_temperature[2][0]), '-', int(russia), 'C')\n",
    "print(str(countries_temperature[3][0]), '-', int(poland), 'C')\n"
   ]
  }
 ],
 "metadata": {
  "kernelspec": {
   "display_name": "Python 3",
   "language": "python",
   "name": "python3"
  },
  "language_info": {
   "codemirror_mode": {
    "name": "ipython",
    "version": 3
   },
   "file_extension": ".py",
   "mimetype": "text/x-python",
   "name": "python",
   "nbconvert_exporter": "python",
   "pygments_lexer": "ipython3",
   "version": "3.8.5"
  }
 },
 "nbformat": 4,
 "nbformat_minor": 4
}
