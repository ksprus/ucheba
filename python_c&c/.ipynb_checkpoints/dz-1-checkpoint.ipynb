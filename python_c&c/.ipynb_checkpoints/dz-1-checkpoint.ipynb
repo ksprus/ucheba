{
 "cells": [
  {
   "cell_type": "markdown",
   "metadata": {},
   "source": [
    "# Задание 1"
   ]
  },
  {
   "cell_type": "code",
   "execution_count": null,
   "metadata": {},
   "outputs": [],
   "source": [
    "word = input(\"Введите слово \")\n",
    "if len(word) % 2 != 0: #проверяем на деление с остатком\n",
    "    odd = int(len(word)) // 2 #длину делим на 2 части\n",
    "    print(word[odd])\n",
    "    \n",
    "if len(word) % 2 == 0:\n",
    "    even = int(len(word)) // 2\n",
    "    print(word[even - 1] + word[even])"
   ]
  },
  {
   "cell_type": "markdown",
   "metadata": {},
   "source": [
    "# Задание 2"
   ]
  },
  {
   "cell_type": "code",
   "execution_count": 36,
   "metadata": {
    "scrolled": true
   },
   "outputs": [
    {
     "name": "stdout",
     "output_type": "stream",
     "text": [
      "Введите число, для завершения цикла введите 0 12\n",
      "Введите число, для завершения цикла введите 0 13\n",
      "Введите число, для завершения цикла введите 0 0\n",
      "Сумма чисел: 25\n"
     ]
    }
   ],
   "source": [
    "i = 0\n",
    "sum = 0\n",
    "while True:\n",
    "    x = int(input(\"Введите число, для завершения цикла введите 0 \"))\n",
    "    if x == 0:\n",
    "        print('Сумма чисел:', sum)\n",
    "        break\n",
    "    x = int(x)\n",
    "    sum += x\n",
    "    i += 1  "
   ]
  },
  {
   "cell_type": "markdown",
   "metadata": {},
   "source": [
    "# Задание 3"
   ]
  },
  {
   "cell_type": "code",
   "execution_count": 2,
   "metadata": {},
   "outputs": [
    {
     "name": "stdout",
     "output_type": "stream",
     "text": [
      "Идеальные пары:\n",
      "Akeksandra и Anton\n",
      "Jenya и Denis\n",
      "Katya и Egor\n",
      "Masha и Petr\n",
      "Milena и Slava\n",
      "Sveta и Viktor\n"
     ]
    }
   ],
   "source": [
    "boys = ['Anton', 'Egor', 'Slava', 'Denis', 'Petr', 'Viktor']\n",
    "girls = ['Masha', 'Katya', 'Jenya', 'Sveta', 'Akeksandra', 'Milena']\n",
    "\n",
    "if len(girls) != len(boys):\n",
    "    print(\"Кто-то может остаться без пары\")\n",
    "if len(girls) == len(boys):\n",
    "    boys_s = sorted(boys)\n",
    "    girls_s = sorted(girls)\n",
    "    print(\"Идеальные пары:\")\n",
    "    i = 0\n",
    "    while i < len(boys_s):\n",
    "        print(str(girls_s[i]), 'и', str(boys_s[i]))\n",
    "        i = i + 1\n",
    "\n",
    "   "
   ]
  },
  {
   "cell_type": "markdown",
   "metadata": {},
   "source": [
    "# Задание 4"
   ]
  },
  {
   "cell_type": "code",
   "execution_count": 2,
   "metadata": {},
   "outputs": [
    {
     "name": "stdout",
     "output_type": "stream",
     "text": [
      "Средняя температура в Thailand - 23.9 C\n",
      "Средняя температура в Germany - 13.8 C\n",
      "Средняя температура в Russia - 3.7 C\n",
      "Средняя температура в Poland - 12.0 C\n"
     ]
    }
   ],
   "source": [
    "countries_temperature = [\n",
    "['Thailand', [75.2, 77, 78.8, 73.4, 68, 75.2, 77]],\n",
    "['Germany', [57.2, 55.4, 59, 59, 53.6]],\n",
    "['Russia', [35.6, 37.4, 39.2, 41, 42.8, 39.2, 35.6]],\n",
    "['Poland', [50, 50, 53.6, 57.2, 55.4, 55.4]]\n",
    "]\n",
    "\n",
    "for element in countries_temperature:\n",
    "    avg_temp = sum(element[1]) / len(element[1])\n",
    "    print(f\"Средняя температура в {element[0]} - {round((avg_temp - 32)*5/9, 1)} C\")\n",
    "\n"
   ]
  },
  {
   "cell_type": "markdown",
   "metadata": {},
   "source": [
    "# Задание 5"
   ]
  },
  {
   "cell_type": "code",
   "execution_count": 44,
   "metadata": {},
   "outputs": [
    {
     "name": "stdout",
     "output_type": "stream",
     "text": [
      "Результат: \n",
      " Среднее количество просмотров на уникального пользователя: 23.25\n"
     ]
    }
   ],
   "source": [
    "stream = [\n",
    "'2018-01-01,user1,3',\n",
    "'2018-01-07,user1,4',\n",
    "'2018-03-29,user1,1',\n",
    "'2018-04-04,user1,13',\n",
    "'2018-01-05,user2,7',\n",
    "'2018-06-14,user3,4',\n",
    "'2018-07-02,user3,10',\n",
    "'2018-03-21,user4,19',\n",
    "'2018-03-22,user4,4',\n",
    "'2018-04-22,user4,8',\n",
    "'2018-05-03,user4,9',\n",
    "'2018-05-11,user4,11',\n",
    "]\n",
    "\n",
    "shows=0\n",
    "users=[]\n",
    "\n",
    "   \n",
    "for i in stream:\n",
    "    a= i.split(',')            \n",
    "    shows+=int(a[2])\n",
    "    if a[1] not in users:\n",
    "        users+=[a[1]]\n",
    "\n",
    "print('Результат:','\\n','Среднее количество просмотров на уникального пользователя:',(shows/len(users)))\n",
    "\n"
   ]
  },
  {
   "cell_type": "markdown",
   "metadata": {},
   "source": [
    "# Задание 6"
   ]
  },
  {
   "cell_type": "code",
   "execution_count": 117,
   "metadata": {},
   "outputs": [
    {
     "name": "stdout",
     "output_type": "stream",
     "text": [
      "Введите числа через пробел2 4 2 5\n",
      "['2', '4', '2', '5']\n"
     ]
    }
   ],
   "source": [
    "x=input('Введите числа через пробел')\n",
    "numb = x.split()\n",
    "\n",
    "\n",
    "\n",
    "\n"
   ]
  },
  {
   "cell_type": "markdown",
   "metadata": {},
   "source": []
  }
 ],
 "metadata": {
  "kernelspec": {
   "display_name": "Python 3",
   "language": "python",
   "name": "python3"
  },
  "language_info": {
   "codemirror_mode": {
    "name": "ipython",
    "version": 3
   },
   "file_extension": ".py",
   "mimetype": "text/x-python",
   "name": "python",
   "nbconvert_exporter": "python",
   "pygments_lexer": "ipython3",
   "version": "3.8.5"
  }
 },
 "nbformat": 4,
 "nbformat_minor": 4
}
