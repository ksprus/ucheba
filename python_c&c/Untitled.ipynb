x = int(input("Введите число, для завершения введите 0"))
sum = 0
while x!= 0:
    sum = sum + x
if x == 0:
    print("Сумма чисел " + sum)
