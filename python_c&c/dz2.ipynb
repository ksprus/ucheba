{
 "cells": [
  {
   "cell_type": "markdown",
   "metadata": {},
   "source": [
    "# Домашнее задание к лекции «Управляющие конструкции и коллекции» часть 2"
   ]
  },
  {
   "cell_type": "markdown",
   "metadata": {},
   "source": [
    "## Задание 1"
   ]
  },
  {
   "cell_type": "code",
   "execution_count": 50,
   "metadata": {},
   "outputs": [
    {
     "name": "stdout",
     "output_type": "stream",
     "text": [
      "[213, 15, 54, 119, 98, 35]\n"
     ]
    }
   ],
   "source": [
    "ids = {'user1': [213, 213, 213, 15, 213],\n",
    "'user2': [54, 54, 119, 119, 119],\n",
    "'user3': [213, 98, 98, 35]}\n",
    "geo =[]\n",
    "user = 'user'\n",
    "j=0\n",
    "while j != len(ids):\n",
    "    j +=1\n",
    "    for i in ids[user+str(int(j))]:\n",
    "        if i not in geo:\n",
    "            geo.append(i)\n",
    "print(geo)\n",
    "\n",
    "\n",
    "    "
   ]
  },
  {
   "cell_type": "markdown",
   "metadata": {},
   "source": [
    "## Задание 2"
   ]
  },
  {
   "cell_type": "code",
   "execution_count": 9,
   "metadata": {},
   "outputs": [
    {
     "name": "stdout",
     "output_type": "stream",
     "text": [
      "Поисковых запросов, содержащих 2 слов(а): 42.85%\n",
      "Поисковых запросов, содержащих 3 слов(а): 57.14%\n"
     ]
    }
   ],
   "source": [
    "queries = [\n",
    "    'смотреть сериалы онлайн',\n",
    "    'новости спорта',\n",
    "    'афиша кино',\n",
    "    'курс доллара',\n",
    "    'сериалы этим летом',\n",
    "    'курс по питону',\n",
    "    'сериалы про спорт',\n",
    "]\n",
    "\n",
    "i=0\n",
    "two = 0\n",
    "three = 0\n",
    "\n",
    "for i in queries:\n",
    "    a = i\n",
    "    b=a.split()\n",
    "    if len(b) ==2:\n",
    "        two= two + 1\n",
    "    if len(b) ==3:\n",
    "        three= three + 1\n",
    "\n",
    "two_res = (100/len(queries))*two\n",
    "three_res = (100/len(queries))*three\n",
    "\n",
    "print(\"Поисковых запросов, содержащих 2 слов(а): {0}%\".format(str(two_res)[0:5]))\n",
    "print(\"Поисковых запросов, содержащих 3 слов(а): {0}%\".format(str(three_res)[0:5]))\n"
   ]
  },
  {
   "cell_type": "markdown",
   "metadata": {},
   "source": [
    "## Задание 3"
   ]
  },
  {
   "cell_type": "code",
   "execution_count": 106,
   "metadata": {},
   "outputs": [
    {
     "name": "stdout",
     "output_type": "stream",
     "text": [
      "[('adwords', {'revenue': 35, 'cost': 34, 'ROI': 106}), ('facebook', {'revenue': 103, 'cost': 110, 'ROI': 94}), ('twitter', {'revenue': 11, 'cost': 24, 'ROI': 47}), ('vk', {'revenue': 103, 'cost': 98, 'ROI': 106}), ('yandex', {'revenue': 179, 'cost': 153, 'ROI': 117})]\n"
     ]
    }
   ],
   "source": [
    "results = {\n",
    "    'vk': {'revenue': 103, 'cost': 98},\n",
    "    'yandex': {'revenue': 179, 'cost': 153},\n",
    "    'facebook': {'revenue': 103, 'cost': 110},\n",
    "    'adwords': {'revenue': 35, 'cost': 34},\n",
    "    'twitter': {'revenue': 11, 'cost': 24},\n",
    "}\n",
    "\n",
    "for i in results:\n",
    "    results[i]['ROI'] = int((results[i]['revenue'] / (results[i]['cost']-1))*100)\n",
    "print(sorted(results.items()))\n",
    "\n",
    "\n"
   ]
  },
  {
   "cell_type": "markdown",
   "metadata": {},
   "source": [
    "## Задание 4"
   ]
  },
  {
   "cell_type": "code",
   "execution_count": 150,
   "metadata": {},
   "outputs": [
    {
     "name": "stdout",
     "output_type": "stream",
     "text": [
      "Максимальный объем продаж на рекламном канале: vk\n"
     ]
    }
   ],
   "source": [
    "stats = {'facebook': 55, 'yandex': 115, 'vk': 120, 'google': 99, 'email': 42, 'ok': 98}\n",
    "max_val = max(stats.values())\n",
    "stats_max = {k:v for k, v in stats.items() if v == max_val}\n",
    "\n",
    "for i in stats_max:\n",
    "    a= i\n",
    "\n",
    "print('Максимальный объем продаж на рекламном канале:', a)"
   ]
  },
  {
   "cell_type": "code",
   "execution_count": null,
   "metadata": {},
   "outputs": [],
   "source": []
  }
 ],
 "metadata": {
  "kernelspec": {
   "display_name": "Python 3",
   "language": "python",
   "name": "python3"
  },
  "language_info": {
   "codemirror_mode": {
    "name": "ipython",
    "version": 3
   },
   "file_extension": ".py",
   "mimetype": "text/x-python",
   "name": "python",
   "nbconvert_exporter": "python",
   "pygments_lexer": "ipython3",
   "version": "3.8.5"
  }
 },
 "nbformat": 4,
 "nbformat_minor": 4
}
