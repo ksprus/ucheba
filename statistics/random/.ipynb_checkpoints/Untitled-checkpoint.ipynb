{
 "cells": [
  {
   "cell_type": "markdown",
   "metadata": {},
   "source": [
    "# Домашнее задание к лекции «Случайные события. Случайные величины»"
   ]
  },
  {
   "cell_type": "code",
   "execution_count": 25,
   "metadata": {},
   "outputs": [
    {
     "name": "stdout",
     "output_type": "stream",
     "text": [
      "В среднем игрок теряет за каждую игру 20 копеек\n"
     ]
    }
   ],
   "source": [
    "import numpy as np\n",
    "\n",
    "trials = 1000000\n",
    "successes = 0\n",
    "lose=0\n",
    "win=0\n",
    "\n",
    "for i in range(trials):\n",
    "    random_score = np.random.randint(0, 1000)   \n",
    "    a= str(random_score)\n",
    "    if len(a)<2:\n",
    "        a='00'+a\n",
    "    if len(a)<3:\n",
    "        a='0'+a\n",
    "\n",
    "        \n",
    "    if a[-1] == '0' and a[1]!='0':\n",
    "        win+=1\n",
    "    elif a[1:] == '00':\n",
    "        win+=2\n",
    "    elif a[-1] == '7' and a[1]!='7':\n",
    "        win+=3\n",
    "\n",
    "    elif a[1:] == '77' and a[0]!='7':\n",
    "        win+=5\n",
    "\n",
    "    elif a == '111':\n",
    "        win+=10\n",
    "\n",
    "    elif a == '333':\n",
    "        win+=15\n",
    "\n",
    "    elif a == '555':\n",
    "        win+=50\n",
    "\n",
    "    elif a == '999':\n",
    "        win+=100\n",
    "\n",
    "    elif a == '777':\n",
    "        win+=200\n",
    "        \n",
    "    successes += 1\n",
    "    lose +=1\n",
    "\n",
    "#Игра игроку не выгодна        \n",
    "print('В среднем игрок теряет за каждую игру', str(lose/trials - win/trials)[2:4], 'копеек')"
   ]
  }
 ],
 "metadata": {
  "kernelspec": {
   "display_name": "Python 3",
   "language": "python",
   "name": "python3"
  },
  "language_info": {
   "codemirror_mode": {
    "name": "ipython",
    "version": 3
   },
   "file_extension": ".py",
   "mimetype": "text/x-python",
   "name": "python",
   "nbconvert_exporter": "python",
   "pygments_lexer": "ipython3",
   "version": "3.8.5"
  }
 },
 "nbformat": 4,
 "nbformat_minor": 4
}
