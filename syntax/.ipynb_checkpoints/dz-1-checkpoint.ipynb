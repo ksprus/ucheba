{
 "cells": [
  {
   "cell_type": "markdown",
   "metadata": {},
   "source": [
    "# Домашнее задание к лекции \"Регулярные выражения\""
   ]
  },
  {
   "cell_type": "markdown",
   "metadata": {},
   "source": [
    "## Задание 1"
   ]
  },
  {
   "cell_type": "code",
   "execution_count": 215,
   "metadata": {},
   "outputs": [
    {
     "name": "stdout",
     "output_type": "stream",
     "text": [
      "Результат: номер А222BС валиден. Регион: 96\n"
     ]
    }
   ],
   "source": [
    "import re\n",
    "\n",
    "car_id = 'А222BС96'\n",
    "        \n",
    "def check_number(self):\n",
    "    pattern = re.findall(r'\\w{1}\\d{3}\\w{2}\\d{2,3}',self)\n",
    "\n",
    "    if self == pattern[0]:\n",
    "        number = re.findall(r'^\\w{1}\\d{3}\\w{2}',self)\n",
    "        region = re.findall(r'\\d+$',self)\n",
    "        return print('Результат: номер {0} валиден. Регион: {1}'.format(number[0], region[0]))\n",
    "    else:\n",
    "        return print('Результат: номер не валиден')\n",
    "check_number(car_id)"
   ]
  },
  {
   "cell_type": "markdown",
   "metadata": {},
   "source": [
    "## Задание 2"
   ]
  },
  {
   "cell_type": "code",
   "execution_count": 488,
   "metadata": {},
   "outputs": [
    {
     "name": "stdout",
     "output_type": "stream",
     "text": [
      "Результат: \n",
      "Напишите функцию которая будет удалять все последовательные повторы слов из заданной строки при помощи регулярных выражений \n"
     ]
    }
   ],
   "source": [
    "import re\n",
    "some_string = 'Напишите функцию функцию, которая будет будет будет будет удалять все все все все последовательные повторы слов из из из из заданной строки строки при помощи регулярных выражений'\n",
    "def repeat_word():\n",
    "    pattern = r'\\w+'\n",
    "    result=[]\n",
    "    string=''\n",
    "    if re.findall(pattern,some_string) not in result:\n",
    "        result += re.findall(pattern,some_string)\n",
    "        for i in result:\n",
    "            if i not in string:                \n",
    "                string += i+' '\n",
    "    print('Результат:','\\n'+string)\n",
    "    \n",
    "repeat_word()"
   ]
  },
  {
   "cell_type": "markdown",
   "metadata": {},
   "source": [
    "## Задание 3"
   ]
  },
  {
   "cell_type": "code",
   "execution_count": 487,
   "metadata": {},
   "outputs": [
    {
     "name": "stdout",
     "output_type": "stream",
     "text": [
      "Результат: ИТ\n"
     ]
    }
   ],
   "source": [
    "import re\n",
    "some_words = 'Информационные технологии'\n",
    "def repeat_word(self):\n",
    "    pattern = r'\\w+'\n",
    "    result=[]\n",
    "    string=''\n",
    "    if re.findall(pattern, self) not in result:\n",
    "        result += re.findall(pattern, self)\n",
    "        for word in result:\n",
    "            if word not in string:\n",
    "                string += word[0]\n",
    "    print('Результат:',string.upper())\n",
    "repeat_word(some_words)"
   ]
  },
  {
   "cell_type": "markdown",
   "metadata": {},
   "source": [
    "## Задание 4"
   ]
  },
  {
   "cell_type": "code",
   "execution_count": 906,
   "metadata": {},
   "outputs": [
    {
     "name": "stdout",
     "output_type": "stream",
     "text": [
      "Результат:\n",
      "\n",
      "gmail.com: 2\n",
      "test.in: 1\n",
      "ya.ru: 2\n",
      "mail.ru: 1\n"
     ]
    }
   ],
   "source": [
    "import re\n",
    "emails = ['test@gmail.com', 'xyz@test.in', 'test@ya.ru', 'xyz@mail.ru', 'xyz@ya.ru', 'xyz@gmail.com']\n",
    "\n",
    "def sorting():\n",
    "    strings.join(emails)\n",
    "    graf={}\n",
    "    def diction():\n",
    "        for mail in emails:\n",
    "            pattern= re.findall(r'\\w+\\.\\w{2,3}',mail)\n",
    "            pattern1= re.findall(r'\\w+\\.\\w{2,3}',strings)\n",
    "\n",
    "            if pattern[0] in mail:\n",
    "                key = pattern[0]\n",
    "                value = mail\n",
    "                graf[key]=''\n",
    "      \n",
    "    diction()\n",
    "            \n",
    "\n",
    "    def com():\n",
    "        pattern= re.findall(r'\\w+\\.com',strings)\n",
    "        if pattern[0] in graf:                \n",
    "            return print(pattern[0]+':',len(pattern))\n",
    "  \n",
    "    \n",
    "    def lin():\n",
    "        pattern= re.findall(r'\\w+\\.in',strings)\n",
    "        if pattern[0] in graf:                \n",
    "            return print(pattern[0]+':',len(pattern))\n",
    " \n",
    "    \n",
    "    def yru():\n",
    "        pattern= re.findall(r'\\w+\\.ru',strings)\n",
    "        if pattern[0] in graf:\n",
    "            if 'mail.ru' in pattern:\n",
    "                pattern.remove('mail.ru')\n",
    "                return print(pattern[0]+':',len(pattern))\n",
    "\n",
    "    \n",
    "    def mru():\n",
    "        pattern= re.findall(r'\\w+\\.ru',strings)\n",
    "        if pattern[0] in graf:\n",
    "            if 'ya.ru' in pattern:\n",
    "                pattern.remove('ya.ru')\n",
    "                pattern.remove('ya.ru')\n",
    "                return print(pattern[0]+':',len(pattern))\n",
    "\n",
    "    print('Результат:'+'\\n')\n",
    "    com()\n",
    "    lin()\n",
    "    yru()\n",
    "    mru()  \n",
    "    \n",
    "\n",
    "sorting()\n"
   ]
  }
 ],
 "metadata": {
  "kernelspec": {
   "display_name": "Python 3",
   "language": "python",
   "name": "python3"
  },
  "language_info": {
   "codemirror_mode": {
    "name": "ipython",
    "version": 3
   },
   "file_extension": ".py",
   "mimetype": "text/x-python",
   "name": "python",
   "nbconvert_exporter": "python",
   "pygments_lexer": "ipython3",
   "version": "3.8.5"
  }
 },
 "nbformat": 4,
 "nbformat_minor": 4
}
